{
 "cells": [
  {
   "cell_type": "code",
   "execution_count": 1,
   "id": "c7dea6cc",
   "metadata": {},
   "outputs": [
    {
     "name": "stdout",
     "output_type": "stream",
     "text": [
      "(2400, 1600, 3)\n"
     ]
    }
   ],
   "source": [
    "# Import image class of matplotlib\n",
    "import matplotlib.image as img\n",
    " \n",
    "def get_image_path(filename):\n",
    "    return 'images/' + filename\n",
    "    \n",
    "# Read batman image and print dimensions\n",
    "current_image = img.imread(get_image_path('5290_img10.2.jpeg'))\n",
    "print(current_image.shape)"
   ]
  },
  {
   "cell_type": "code",
   "execution_count": 20,
   "id": "49a6e012",
   "metadata": {},
   "outputs": [
    {
     "name": "stdout",
     "output_type": "stream",
     "text": [
      "Requirement already satisfied: conda in ./venv/lib/python3.9/site-packages (4.3.16)\n",
      "Requirement already satisfied: pycosat>=0.6.1 in ./venv/lib/python3.9/site-packages (from conda) (0.6.3)\n",
      "Requirement already satisfied: requests>=2.12.4 in ./venv/lib/python3.9/site-packages (from conda) (2.26.0)\n",
      "Requirement already satisfied: ruamel.yaml>=0.11.14 in ./venv/lib/python3.9/site-packages (from conda) (0.17.17)\n",
      "Requirement already satisfied: charset-normalizer~=2.0.0 in ./venv/lib/python3.9/site-packages (from requests>=2.12.4->conda) (2.0.7)\n",
      "Requirement already satisfied: urllib3<1.27,>=1.21.1 in ./venv/lib/python3.9/site-packages (from requests>=2.12.4->conda) (1.26.7)\n",
      "Requirement already satisfied: idna<4,>=2.5 in ./venv/lib/python3.9/site-packages (from requests>=2.12.4->conda) (3.3)\n",
      "Requirement already satisfied: certifi>=2017.4.17 in ./venv/lib/python3.9/site-packages (from requests>=2.12.4->conda) (2021.10.8)\n",
      "Requirement already satisfied: ruamel.yaml.clib>=0.1.2 in ./venv/lib/python3.9/site-packages (from ruamel.yaml>=0.11.14->conda) (0.2.6)\n",
      "ERROR: The install method you used for conda--probably either `pip install conda`\n",
      "or `easy_install conda`--is not compatible with using conda as an application.\n",
      "If your intention is to install conda as a standalone application, currently\n",
      "supported install methods include the Anaconda installer and the miniconda\n",
      "installer.  You can download the miniconda installer from\n",
      "https://conda.io/miniconda.html.\n",
      "\n"
     ]
    },
    {
     "ename": "ModuleNotFoundError",
     "evalue": "No module named 'scipy'",
     "output_type": "error",
     "traceback": [
      "\u001b[0;31m---------------------------------------------------------------------------\u001b[0m",
      "\u001b[0;31mModuleNotFoundError\u001b[0m                       Traceback (most recent call last)",
      "\u001b[0;32m<ipython-input-20-f7d164a08579>\u001b[0m in \u001b[0;36m<module>\u001b[0;34m\u001b[0m\n\u001b[1;32m      6\u001b[0m \u001b[0;32mimport\u001b[0m \u001b[0mpandas\u001b[0m \u001b[0;32mas\u001b[0m \u001b[0mpd\u001b[0m\u001b[0;34m\u001b[0m\u001b[0;34m\u001b[0m\u001b[0m\n\u001b[1;32m      7\u001b[0m \u001b[0;31m# import scipy\u001b[0m\u001b[0;34m\u001b[0m\u001b[0;34m\u001b[0m\u001b[0m\n\u001b[0;32m----> 8\u001b[0;31m \u001b[0;32mfrom\u001b[0m \u001b[0mscipy\u001b[0m\u001b[0;34m.\u001b[0m\u001b[0mcluster\u001b[0m\u001b[0;34m.\u001b[0m\u001b[0mvq\u001b[0m \u001b[0;32mimport\u001b[0m \u001b[0mwhiten\u001b[0m\u001b[0;34m\u001b[0m\u001b[0;34m\u001b[0m\u001b[0m\n\u001b[0m\u001b[1;32m      9\u001b[0m \u001b[0;34m\u001b[0m\u001b[0m\n\u001b[1;32m     10\u001b[0m \u001b[0;31m# Store RGB values of all pixels in lists r, g and b\u001b[0m\u001b[0;34m\u001b[0m\u001b[0;34m\u001b[0m\u001b[0m\n",
      "\u001b[0;31mModuleNotFoundError\u001b[0m: No module named 'scipy'"
     ]
    }
   ],
   "source": [
    "# !sudo apt-get install python-scipy\n",
    "# !python -m pip install scipy\n",
    "!pip install conda\n",
    "!conda install scipy\n",
    "# Importing the modules\n",
    "import pandas as pd\n",
    "# import scipy\n",
    "from scipy.cluster.vq import whiten\n",
    " \n",
    "# Store RGB values of all pixels in lists r, g and b\n",
    "r = []\n",
    "g = []\n",
    "b = []\n",
    "for row in current_image:\n",
    "    for temp_r, temp_g, temp_b, temp in row:\n",
    "        r.append(temp_r)\n",
    "        g.append(temp_g)\n",
    "        b.append(temp_b)\n",
    " \n",
    "# only printing the size of these lists\n",
    "# as the content is too big\n",
    "print(len(r))\n",
    "print(len(g))\n",
    "print(len(b))\n",
    " \n",
    "# Saving as DataFrame\n",
    "batman_df = pd.DataFrame({'red' : r,\n",
    "                          'green' : g,\n",
    "                          'blue' : b})\n",
    " \n",
    "# Scaling the values\n",
    "batman_df['scaled_color_red'] = whiten(batman_df['red'])\n",
    "batman_df['scaled_color_blue'] = whiten(batman_df['blue'])\n",
    "batman_df['scaled_color_green'] = whiten(batman_df['green'])"
   ]
  },
  {
   "cell_type": "code",
   "execution_count": null,
   "id": "e5109e8c",
   "metadata": {},
   "outputs": [],
   "source": []
  }
 ],
 "metadata": {
  "kernelspec": {
   "display_name": "Python 3",
   "language": "python",
   "name": "python3"
  },
  "language_info": {
   "codemirror_mode": {
    "name": "ipython",
    "version": 3
   },
   "file_extension": ".py",
   "mimetype": "text/x-python",
   "name": "python",
   "nbconvert_exporter": "python",
   "pygments_lexer": "ipython3",
   "version": "3.9.7"
  }
 },
 "nbformat": 4,
 "nbformat_minor": 5
}
